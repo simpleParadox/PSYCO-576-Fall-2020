{
  "nbformat": 4,
  "nbformat_minor": 0,
  "metadata": {
    "colab": {
      "name": "PSYCO-576: ML for Psychology DW-4",
      "provenance": [],
      "collapsed_sections": [],
      "authorship_tag": "ABX9TyNKJWGawETYTZc+zpFqiDvP",
      "include_colab_link": true
    },
    "kernelspec": {
      "name": "python3",
      "display_name": "Python 3"
    }
  },
  "cells": [
    {
      "cell_type": "markdown",
      "metadata": {
        "id": "view-in-github",
        "colab_type": "text"
      },
      "source": [
        "<a href=\"https://colab.research.google.com/github/simpleParadox/PSYCO-576-Fall-2020/blob/master/PSYCO_576_ML_for_Psychology_DW_4.ipynb\" target=\"_parent\"><img src=\"https://colab.research.google.com/assets/colab-badge.svg\" alt=\"Open In Colab\"/></a>"
      ]
    },
    {
      "cell_type": "markdown",
      "metadata": {
        "id": "HNILHQi6Bgaj"
      },
      "source": [
        "# **Welcome to the Fourth Data Workshop!**\n",
        "\n",
        "Good job on the third data workshop, we learned a lot there.\n",
        "\n",
        "To recap, here's what we learned in the third data workshop. We learned about cross-validation, its different types, and touched on retrieving features using PCA.\n",
        "\n",
        "In this notebook, we will take a slight detour and focus on one of the machine learning models, particularly SVM and implement a high level neural network."
      ]
    },
    {
      "cell_type": "markdown",
      "metadata": {
        "id": "H1Gz-uVatLBu"
      },
      "source": [
        "In this workshop, we will use scikit-learn and use the SVM package from it. We will look at how varying varying different hyperparameters of the model have an effect on the output.\n",
        "\n",
        "We will look at a simple example of using SVM on recognizing hand-written digits. We will use this dataset because it is easily available in existing machine learning packages and can be extended to brain imaging data (also this eliminates focussing more on preprocessing the brain imaging data)."
      ]
    },
    {
      "cell_type": "code",
      "metadata": {
        "id": "t0_hPmk6tKLg"
      },
      "source": [
        "# First let's load the packages.\n",
        "from sklearn.svm import SVC\n",
        "from sklearn import datasets\n",
        "from sklearn.model_selection import train_test_split\n",
        "import matplotlib.pyplot as plt\n",
        "import numpy as np\n",
        "import pandas as pd"
      ],
      "execution_count": 1,
      "outputs": []
    },
    {
      "cell_type": "markdown",
      "metadata": {
        "id": "lrJ_mhdI5CFa"
      },
      "source": [
        "## Section 1"
      ]
    },
    {
      "cell_type": "markdown",
      "metadata": {
        "id": "cr7FzH_2zdy4"
      },
      "source": [
        "Now let's load the digits."
      ]
    },
    {
      "cell_type": "code",
      "metadata": {
        "id": "mcs6G1YqqaPw"
      },
      "source": [
        "digits = datasets.load_digits()  "
      ],
      "execution_count": 2,
      "outputs": []
    },
    {
      "cell_type": "code",
      "metadata": {
        "id": "I9F9WTl4zjok"
      },
      "source": [
        "X, y = digits.images, digits.target"
      ],
      "execution_count": 3,
      "outputs": []
    },
    {
      "cell_type": "markdown",
      "metadata": {
        "id": "9g_agxaJ4XFs"
      },
      "source": [
        "The image data and the target values are stored in variables X and y."
      ]
    },
    {
      "cell_type": "code",
      "metadata": {
        "id": "CPcbJEaHznLx",
        "outputId": "9f21ddf7-affc-4889-f13a-2fa633047c9c",
        "colab": {
          "base_uri": "https://localhost:8080/"
        }
      },
      "source": [
        "X.shape"
      ],
      "execution_count": 4,
      "outputs": [
        {
          "output_type": "execute_result",
          "data": {
            "text/plain": [
              "(1797, 8, 8)"
            ]
          },
          "metadata": {
            "tags": []
          },
          "execution_count": 4
        }
      ]
    },
    {
      "cell_type": "code",
      "metadata": {
        "id": "MReYG15nz2Xr",
        "outputId": "b4507a88-f00d-4942-c005-45999f172b7a",
        "colab": {
          "base_uri": "https://localhost:8080/"
        }
      },
      "source": [
        "y.shape"
      ],
      "execution_count": 5,
      "outputs": [
        {
          "output_type": "execute_result",
          "data": {
            "text/plain": [
              "(1797,)"
            ]
          },
          "metadata": {
            "tags": []
          },
          "execution_count": 5
        }
      ]
    },
    {
      "cell_type": "markdown",
      "metadata": {
        "id": "TjtOTR_l3Tsz"
      },
      "source": [
        "Let's look at one of the images."
      ]
    },
    {
      "cell_type": "code",
      "metadata": {
        "id": "Xj0deO27z4Op",
        "outputId": "ca201c24-cd5e-44c2-a741-947843985e6c",
        "colab": {
          "base_uri": "https://localhost:8080/",
          "height": 282
        }
      },
      "source": [
        "plt.imshow(X[10], cmap=plt.cm.gray_r, interpolation='nearest')"
      ],
      "execution_count": 6,
      "outputs": [
        {
          "output_type": "execute_result",
          "data": {
            "text/plain": [
              "<matplotlib.image.AxesImage at 0x7f873bc7c780>"
            ]
          },
          "metadata": {
            "tags": []
          },
          "execution_count": 6
        },
        {
          "output_type": "display_data",
          "data": {
            "image/png": "[encoded data removed]",
            "text/plain": [
              "<Figure size 432x288 with 1 Axes>"
            ]
          },
          "metadata": {
            "tags": [],
            "needs_background": "light"
          }
        }
      ]
    },
    {
      "cell_type": "markdown",
      "metadata": {
        "id": "vGwFlYvW3qK9"
      },
      "source": [
        "As we can see, the resolution is not so high. Since this is a toy example, it's fine for our needs."
      ]
    },
    {
      "cell_type": "markdown",
      "metadata": {
        "id": "pmQClLrY31HM"
      },
      "source": [
        "What image do you see? 🤔"
      ]
    },
    {
      "cell_type": "code",
      "metadata": {
        "id": "HKjmlTzU1i43",
        "outputId": "eafc8474-f3cb-41af-8d77-9b5a9e4ee5c2",
        "colab": {
          "base_uri": "https://localhost:8080/"
        }
      },
      "source": [
        "y[10]"
      ],
      "execution_count": null,
      "outputs": [
        {
          "output_type": "execute_result",
          "data": {
            "text/plain": [
              "0"
            ]
          },
          "metadata": {
            "tags": []
          },
          "execution_count": 19
        }
      ]
    },
    {
      "cell_type": "markdown",
      "metadata": {
        "id": "i6KwuDPs354P"
      },
      "source": [
        "Likewise, we have 1797 images of low-resolution hand wirtten digits. This also means that the image data is in the form of a 3-d matrix. Though this shouldn't be a problem and we can use a vectorizer to solve this, it will be more simple if we just reshape the 3-d matrix into a 2-d matrix."
      ]
    },
    {
      "cell_type": "markdown",
      "metadata": {
        "id": "fIDtinYY8eNF"
      },
      "source": [
        "###Exercise 1\n",
        "Reshape the input data into a 2-d matrix.\n",
        "\n",
        "HINT: Use [np.reshape](https://numpy.org/doc/stable/reference/generated/numpy.reshape.html)"
      ]
    },
    {
      "cell_type": "code",
      "metadata": {
        "id": "9YLTz-FW91JE"
      },
      "source": [
        "X = ...  # Fill this out."
      ],
      "execution_count": null,
      "outputs": []
    },
    {
      "cell_type": "code",
      "metadata": {
        "id": "egkPJrPs-gpb",
        "cellView": "form"
      },
      "source": [
        "#@title Solution\n",
        "X = np.reshape(X, (len(X),-1))"
      ],
      "execution_count": 7,
      "outputs": []
    },
    {
      "cell_type": "markdown",
      "metadata": {
        "id": "9pFn-KvU4Pzr"
      },
      "source": [
        "Now let's split our dataset into training and testing dataset."
      ]
    },
    {
      "cell_type": "code",
      "metadata": {
        "id": "DNkfuCmf2SV5"
      },
      "source": [
        "X_train, X_test, y_train, y_test = train_test_split(X, y, test_size=0.20)"
      ],
      "execution_count": null,
      "outputs": []
    },
    {
      "cell_type": "markdown",
      "metadata": {
        "id": "N_4jVm3u8CDs"
      },
      "source": [
        "Now let's initialize our SVM model with default parameters."
      ]
    },
    {
      "cell_type": "code",
      "metadata": {
        "id": "9ckTlu257xin"
      },
      "source": [
        "svc = SVC()  "
      ],
      "execution_count": null,
      "outputs": []
    },
    {
      "cell_type": "markdown",
      "metadata": {
        "id": "1XqxOwdE8OET"
      },
      "source": [
        "Let's train the model."
      ]
    },
    {
      "cell_type": "code",
      "metadata": {
        "id": "ib8D8Gws7zdk",
        "outputId": "12045b71-f4b7-4c11-9f1b-1da2d09351b4",
        "colab": {
          "base_uri": "https://localhost:8080/"
        }
      },
      "source": [
        "svc.fit(X_train, y_train)"
      ],
      "execution_count": null,
      "outputs": [
        {
          "output_type": "execute_result",
          "data": {
            "text/plain": [
              "SVC(C=1.0, break_ties=False, cache_size=200, class_weight=None, coef0=0.0,\n",
              "    decision_function_shape='ovr', degree=3, gamma='scale', kernel='rbf',\n",
              "    max_iter=-1, probability=False, random_state=None, shrinking=True,\n",
              "    tol=0.001, verbose=False)"
            ]
          },
          "metadata": {
            "tags": []
          },
          "execution_count": 39
        }
      ]
    },
    {
      "cell_type": "code",
      "metadata": {
        "id": "jWGhbP4r8S0z",
        "outputId": "5af475de-3084-42a4-936c-54ec877599c3",
        "colab": {
          "base_uri": "https://localhost:8080/"
        }
      },
      "source": [
        "svc.score(X_test, y_test)"
      ],
      "execution_count": null,
      "outputs": [
        {
          "output_type": "execute_result",
          "data": {
            "text/plain": [
              "0.9972222222222222"
            ]
          },
          "metadata": {
            "tags": []
          },
          "execution_count": 40
        }
      ]
    },
    {
      "cell_type": "markdown",
      "metadata": {
        "id": "R5SN87ZunzE_"
      },
      "source": [
        "That score is really high! Let's do cross-validation to get a more robust estimate."
      ]
    },
    {
      "cell_type": "code",
      "metadata": {
        "id": "308l3fMm-wMo",
        "outputId": "332f7ab5-27a2-4d3e-bb43-9341f0ff4f88",
        "colab": {
          "base_uri": "https://localhost:8080/"
        }
      },
      "source": [
        "from sklearn.model_selection import ShuffleSplit\n",
        "svc = SVC()\n",
        "iters = 10\n",
        "scores = []\n",
        "sf = ShuffleSplit(n_splits=iters, test_size=0.20)\n",
        "for train_index, test_index in sf.split(X):\n",
        "  X_train, X_test = X[train_index], X[test_index]\n",
        "  y_train, y_test = y[train_index], y[test_index]\n",
        "  svc.fit(X_train, y_train)\n",
        "  scores.append(svc.score(X_test, y_test))\n",
        "\n",
        "print(f\"Average Monte Carlo Cross Validation for {iters} iterations is: \", np.mean(scores))\n"
      ],
      "execution_count": null,
      "outputs": [
        {
          "output_type": "stream",
          "text": [
            "Average Monte Carlo Cross Validation for 10 iterations is:  0.9886111111111111\n"
          ],
          "name": "stdout"
        }
      ]
    },
    {
      "cell_type": "markdown",
      "metadata": {
        "id": "nJo_pK_avAyp"
      },
      "source": [
        "Now let's see if we can improve the accuracy by tuning the hyperparameters.\n",
        "\n",
        "From the last data workshop, we will use the ideas of GridSearchCV to find optimal hyperparameters."
      ]
    },
    {
      "cell_type": "code",
      "metadata": {
        "id": "9VhSoPKFoY1w",
        "outputId": "6319a047-727c-4df0-dde2-52a888773628",
        "colab": {
          "base_uri": "https://localhost:8080/"
        }
      },
      "source": [
        "# Import GridSearchCV\n",
        "from sklearn.model_selection import GridSearchCV\n",
        "svc = SVC()\n",
        "# Define parameters\n",
        "iters = 2\n",
        "svc_params = {'C': [0.01, 0.1, 10, 100, 1000], 'kernel': ['rbf', 'sigmoid']}\n",
        "sf = ShuffleSplit(n_splits=iters, test_size=0.20)\n",
        "clf = GridSearchCV(svc, svc_params, cv=5, verbose=1)\n",
        "for train_index, test_index in sf.split(X):\n",
        "  X_train, X_test = X[train_index], X[test_index]\n",
        "  y_train, y_test = y[train_index], y[test_index]\n",
        "  clf.fit(X_train, y_train)\n",
        "  scores.append(clf.score(X_test, y_test))\n",
        "  print(\"Best params: \", clf.best_params_)\n",
        "\n",
        "print(f\"Average Monte Carlo Cross Validation for {iters} iterations is: \", np.mean(scores))"
      ],
      "execution_count": null,
      "outputs": [
        {
          "output_type": "stream",
          "text": [
            "Fitting 5 folds for each of 10 candidates, totalling 50 fits\n"
          ],
          "name": "stdout"
        },
        {
          "output_type": "stream",
          "text": [
            "[Parallel(n_jobs=1)]: Using backend SequentialBackend with 1 concurrent workers.\n",
            "[Parallel(n_jobs=1)]: Done  50 out of  50 | elapsed:    8.6s finished\n",
            "[Parallel(n_jobs=1)]: Using backend SequentialBackend with 1 concurrent workers.\n"
          ],
          "name": "stderr"
        },
        {
          "output_type": "stream",
          "text": [
            "Best params:  {'C': 10, 'kernel': 'rbf'}\n",
            "Fitting 5 folds for each of 10 candidates, totalling 50 fits\n",
            "Best params:  {'C': 10, 'kernel': 'rbf'}\n",
            "Average Monte Carlo Cross Validation for 2 iterations is:  0.9897058823529411\n"
          ],
          "name": "stdout"
        },
        {
          "output_type": "stream",
          "text": [
            "[Parallel(n_jobs=1)]: Done  50 out of  50 | elapsed:    8.6s finished\n"
          ],
          "name": "stderr"
        }
      ]
    },
    {
      "cell_type": "markdown",
      "metadata": {
        "id": "WW0WuyOU1USt"
      },
      "source": [
        "Although the accuracy is high for our dataset, we still want to have a look at the confusion matrix to understand how the classifier is performing."
      ]
    },
    {
      "cell_type": "markdown",
      "metadata": {
        "id": "Zn4e-cOn3EWb"
      },
      "source": [
        "First let's create a training and testing and initialize a model with best parameters from our GridSearchCV."
      ]
    },
    {
      "cell_type": "code",
      "metadata": {
        "id": "VdEA1Ohr3OXT",
        "outputId": "29259684-62e3-438d-ca28-9a415e57257d",
        "colab": {
          "base_uri": "https://localhost:8080/"
        }
      },
      "source": [
        "model = SVC(kernel='rbf', C=10)\n",
        "X_train, X_test, y_train, y_test = train_test_split(X, y, test_size=0.20)\n",
        "model.fit(X_train, y_train)"
      ],
      "execution_count": 8,
      "outputs": [
        {
          "output_type": "execute_result",
          "data": {
            "text/plain": [
              "SVC(C=10, break_ties=False, cache_size=200, class_weight=None, coef0=0.0,\n",
              "    decision_function_shape='ovr', degree=3, gamma='scale', kernel='rbf',\n",
              "    max_iter=-1, probability=False, random_state=None, shrinking=True,\n",
              "    tol=0.001, verbose=False)"
            ]
          },
          "metadata": {
            "tags": []
          },
          "execution_count": 8
        }
      ]
    },
    {
      "cell_type": "markdown",
      "metadata": {
        "id": "_wfMZaF3zUL1"
      },
      "source": [
        "###Exercise 2\n",
        "\n",
        "Create a confusion matrix.\n",
        "\n",
        "HINT: Use scikit-learn's [plot_confusion_matrix](https://scikit-learn.org/stable/modules/generated/sklearn.metrics.plot_confusion_matrix.html) function."
      ]
    },
    {
      "cell_type": "code",
      "metadata": {
        "id": "MikQ2RKAyrUr"
      },
      "source": [
        "# Import and create a confusion matrix using the above model.\n",
        "...\n"
      ],
      "execution_count": null,
      "outputs": []
    },
    {
      "cell_type": "code",
      "metadata": {
        "id": "BQl6z7pl1Nfn",
        "cellView": "form"
      },
      "source": [
        "#@title Solution\n",
        "from sklearn.metrics import plot_confusion_matrix\n",
        "plot_confusion_matrix(model, X_test, y_test)"
      ],
      "execution_count": null,
      "outputs": []
    },
    {
      "cell_type": "markdown",
      "metadata": {
        "id": "n9fiYYgB49ed"
      },
      "source": [
        "## Section 2\n",
        "\n",
        "In this section we are going to look at an implementation of a neural network.\n",
        "\n",
        "For this notebook, we are going to use [Keras](https://keras.io/) which is a high-level API to build neural networks. Keras is great for small scale projects and quick experimentation. But large scale projects usually use PyTorch or TensorFlow.\n",
        "\n",
        "You can decide to use any library you want, the architecture of the network is independent of the library.\n",
        "\n",
        "NOTE: Keras runs on top of TensorFlow and keras can be accessed via TensorFlow."
      ]
    },
    {
      "cell_type": "code",
      "metadata": {
        "id": "-TBr3ssc5JQa"
      },
      "source": [
        "# Import classes.\n",
        "import tensorflow as tf\n",
        "from tensorflow.keras.models import Sequential\n",
        "from tensorflow.keras.layers import Dense"
      ],
      "execution_count": 11,
      "outputs": []
    },
    {
      "cell_type": "code",
      "metadata": {
        "id": "TdtaqxTvrfOH"
      },
      "source": [
        "X_train, X_test, y_train, y_test = train_test_split(X, y, test_size=0.20)"
      ],
      "execution_count": 12,
      "outputs": []
    },
    {
      "cell_type": "code",
      "metadata": {
        "id": "tNnYdqnwytMf",
        "outputId": "0ec4c72f-7d8f-45ab-c283-ad774f904604",
        "colab": {
          "base_uri": "https://localhost:8080/"
        }
      },
      "source": [
        "y_test[1]"
      ],
      "execution_count": 13,
      "outputs": [
        {
          "output_type": "execute_result",
          "data": {
            "text/plain": [
              "0"
            ]
          },
          "metadata": {
            "tags": []
          },
          "execution_count": 13
        }
      ]
    },
    {
      "cell_type": "code",
      "metadata": {
        "id": "j2whco67xTwa"
      },
      "source": [
        "num_classes = 10\n",
        "y_train = tf.keras.utils.to_categorical(y_train, num_classes)\n",
        "y_test = tf.keras.utils.to_categorical(y_test, num_classes)"
      ],
      "execution_count": 14,
      "outputs": []
    },
    {
      "cell_type": "code",
      "metadata": {
        "id": "j6FMTnq_x7Ig",
        "outputId": "f4411f41-a16e-4d77-f2ee-82353a516cb5",
        "colab": {
          "base_uri": "https://localhost:8080/"
        }
      },
      "source": [
        "y_train[1]"
      ],
      "execution_count": 15,
      "outputs": [
        {
          "output_type": "execute_result",
          "data": {
            "text/plain": [
              "array([0., 0., 1., 0., 0., 0., 0., 0., 0., 0.], dtype=float32)"
            ]
          },
          "metadata": {
            "tags": []
          },
          "execution_count": 15
        }
      ]
    },
    {
      "cell_type": "code",
      "metadata": {
        "id": "xjScznbCp5sE"
      },
      "source": [
        "# Now let's create the neural network and add layers.\n",
        "model = Sequential()\n",
        "model.add(tf.keras.Input(shape=(64,)))\n",
        "model.add(Dense(units=64, activation='relu'))\n",
        "model.add(Dense(units=num_classes, activation='softmax'))\n",
        "\n",
        "model.compile(optimizer='sgd', loss='categorical_crossentropy', metrics=['accuracy'])"
      ],
      "execution_count": 30,
      "outputs": []
    },
    {
      "cell_type": "code",
      "metadata": {
        "id": "Z9yLD_hdqhbj",
        "outputId": "7b262ce4-9d6f-4d13-ff68-1b7cfc024b97",
        "colab": {
          "base_uri": "https://localhost:8080/"
        }
      },
      "source": [
        "model.fit(X_train, y_train, epochs=2, batch_size=10)"
      ],
      "execution_count": 31,
      "outputs": [
        {
          "output_type": "stream",
          "text": [
            "Epoch 1/2\n",
            "144/144 [==============================] - 0s 965us/step - loss: 0.9397 - accuracy: 0.7606\n",
            "Epoch 2/2\n",
            "144/144 [==============================] - 0s 941us/step - loss: 0.2509 - accuracy: 0.9241\n"
          ],
          "name": "stdout"
        },
        {
          "output_type": "execute_result",
          "data": {
            "text/plain": [
              "<tensorflow.python.keras.callbacks.History at 0x7f86f9dd87f0>"
            ]
          },
          "metadata": {
            "tags": []
          },
          "execution_count": 31
        }
      ]
    },
    {
      "cell_type": "markdown",
      "metadata": {
        "id": "GCxE2RXQ1kiy"
      },
      "source": [
        "###Exercise 3\n",
        "Evaluate the performance of the model on the test data.\n",
        "HINT: Read on this method to see how it's used: [Evaluate](https://keras.io/api/models/model_training_apis/#evaluate-method)\n"
      ]
    },
    {
      "cell_type": "code",
      "metadata": {
        "id": "yF5CHm26Tjmi"
      },
      "source": [
        "score = ...\n",
        "print(\"Neural Network Score: \", ...)"
      ],
      "execution_count": 20,
      "outputs": []
    },
    {
      "cell_type": "code",
      "metadata": {
        "id": "GR6BTDI91wXj",
        "cellView": "form"
      },
      "source": [
        "#@title Solution\n",
        "score = model.evaluate(X_test, y_test)\n",
        "print(\"Test Accuracy: \", score[1])"
      ],
      "execution_count": null,
      "outputs": []
    },
    {
      "cell_type": "markdown",
      "metadata": {
        "id": "33N5RW7eTr34"
      },
      "source": [
        "##RNNs\n",
        "Now we will look at a simple implementation of an RNN to predict time-series data.\n",
        "\n",
        "NOTE: Input to neural networks have to be in a numerical format - for example, matrices of real numbers. So if the dataset contains strings/characters, they must be vectorized/converted to a numerical format."
      ]
    },
    {
      "cell_type": "code",
      "metadata": {
        "id": "RHanEQMNUKA9"
      },
      "source": [
        "from keras.layers import Dense, SimpleRNN"
      ],
      "execution_count": 34,
      "outputs": []
    },
    {
      "cell_type": "code",
      "metadata": {
        "id": "0964_KhboFmk",
        "cellView": "both",
        "outputId": "f0bcc189-e45f-41f0-83dc-c7c76adc15e1",
        "colab": {
          "base_uri": "https://localhost:8080/",
          "height": 298
        }
      },
      "source": [
        "#@title Run this cell to create sample data.\n",
        "def convertToMatrix(data, step):\n",
        " X, Y =[], []\n",
        " for i in range(len(data)-step):\n",
        "  d=i+step  \n",
        "  X.append(data[i:d,])\n",
        "  Y.append(data[d,])\n",
        " return np.array(X), np.array(Y)\n",
        "\n",
        "seq_len = 4\n",
        "N = 1000    \n",
        "Tp = 800\n",
        "\n",
        "t=np.arange(0,N)\n",
        "x=np.sin(0.02*t)+2*np.random.rand(N)\n",
        "df = pd.DataFrame(x)\n",
        "# print(df.head())\n",
        "\n",
        "plt.plot(df)\n",
        "plt.axvline(x=Tp, color='r')\n",
        "plt.show()\n",
        "\n",
        "values=df.values\n",
        "train,test = values[0:Tp,:], values[Tp:N,:]\n",
        "# print(np.repeat(train[-1],2))\n",
        "print(len(test))\n",
        "\n",
        "# add seq_len elements into train and test - to make sure they are of equal size.\n",
        "test = np.append(test,np.repeat(test[-1,],seq_len))\n",
        "train = np.append(train,np.repeat(train[-1,],seq_len))\n",
        "print(len(test))\n",
        "\n",
        "# NOTE: RNN requires a 3-d input.\n",
        "X_train, y_train = convertToMatrix(train,seq_len)\n",
        "X_test, y_test = convertToMatrix(test,seq_len)\n",
        "X_train = np.reshape(X_train, (X_train.shape[0], 1, X_train.shape[1]))\n",
        "X_test = np.reshape(X_test, (X_test.shape[0], 1, X_test.shape[1]))"
      ],
      "execution_count": 112,
      "outputs": [
        {
          "output_type": "display_data",
          "data": {
            "image/png": "[encoded data removed]",
            "text/plain": [
              "<Figure size 432x288 with 1 Axes>"
            ]
          },
          "metadata": {
            "tags": [],
            "needs_background": "light"
          }
        },
        {
          "output_type": "stream",
          "text": [
            "200\n",
            "204\n"
          ],
          "name": "stdout"
        }
      ]
    },
    {
      "cell_type": "markdown",
      "metadata": {
        "id": "vaVLtpVIpdVM"
      },
      "source": [
        "Now let's create our RNN model"
      ]
    },
    {
      "cell_type": "code",
      "metadata": {
        "id": "qpeK43l0cb3H",
        "outputId": "115a0a3f-9186-41fc-b03c-8b11b883761d",
        "colab": {
          "base_uri": "https://localhost:8080/"
        }
      },
      "source": [
        "X_train.shape"
      ],
      "execution_count": 111,
      "outputs": [
        {
          "output_type": "execute_result",
          "data": {
            "text/plain": [
              "(797, 1, 4)"
            ]
          },
          "metadata": {
            "tags": []
          },
          "execution_count": 111
        }
      ]
    },
    {
      "cell_type": "code",
      "metadata": {
        "id": "U0INOZson4QZ"
      },
      "source": [
        "model = Sequential()\n",
        "model.add(SimpleRNN(units=64, input_shape=(1,seq_len), activation=\"relu\"))\n",
        "model.add(Dense(16, activation=\"relu\")) \n",
        "model.add(Dense(1))\n",
        "model.compile(loss='mean_squared_error', optimizer='sgd')"
      ],
      "execution_count": 105,
      "outputs": []
    },
    {
      "cell_type": "markdown",
      "metadata": {
        "id": "6c3ahATxq5ce"
      },
      "source": [
        "After creating the model, let's train it."
      ]
    },
    {
      "cell_type": "code",
      "metadata": {
        "id": "wuvQB2Dzq4jS"
      },
      "source": [
        "model.fit(X_train,y_train, epochs=100, verbose=0)\n",
        "train_preds = model.predict(X_train)\n",
        "test_preds= model.predict(X_test)\n",
        "predicted=np.concatenate((train_preds, test_preds),axis=0)\n"
      ],
      "execution_count": 106,
      "outputs": []
    },
    {
      "cell_type": "markdown",
      "metadata": {
        "id": "mH7Ysxg8rurp"
      },
      "source": [
        "And then let's plot the overlay of our model's prediction on the true data."
      ]
    },
    {
      "cell_type": "code",
      "metadata": {
        "id": "QICcJd-PruSZ",
        "outputId": "a38e149b-d6fc-4b3a-b676-60fd78e79391",
        "colab": {
          "base_uri": "https://localhost:8080/",
          "height": 265
        }
      },
      "source": [
        "index = df.index.values\n",
        "plt.plot(index,df.values)\n",
        "plt.plot(index,predicted, c='r')\n",
        "plt.axvline(df.index[Tp], c=\"c\")\n",
        "plt.show() "
      ],
      "execution_count": 107,
      "outputs": [
        {
          "output_type": "display_data",
          "data": {
            "image/png": "[encoded data removed]",
            "text/plain": [
              "<Figure size 432x288 with 1 Axes>"
            ]
          },
          "metadata": {
            "tags": [],
            "needs_background": "light"
          }
        }
      ]
    },
    {
      "cell_type": "markdown",
      "metadata": {
        "id": "JibnsUKI8sSp"
      },
      "source": [
        "We learned a lot in this notebook.\n",
        "\n",
        "1. SVMs and how it can be used on a toy problem.\n",
        "2. A simple neural network.\n",
        "3. A simple Recurrent Neural Network.\n",
        "\n",
        "We also looked at the Keras deep learning library that makes implementing neural networks easy."
      ]
    }
  ]
}