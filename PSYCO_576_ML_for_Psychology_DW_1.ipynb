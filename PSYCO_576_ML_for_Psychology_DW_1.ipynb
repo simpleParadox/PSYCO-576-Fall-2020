{
  "nbformat": 4,
  "nbformat_minor": 0,
  "metadata": {
    "colab": {
      "name": "PSYCO 576: ML for Psychology DW-1",
      "provenance": [],
      "authorship_tag": "ABX9TyOEOZ+TRx2cJKV3lQsuhlmS",
      "include_colab_link": true
    },
    "kernelspec": {
      "name": "python3",
      "display_name": "Python 3"
    }
  },
  "cells": [
    {
      "cell_type": "markdown",
      "metadata": {
        "id": "view-in-github",
        "colab_type": "text"
      },
      "source": [
        "<a href=\"https://colab.research.google.com/github/simpleParadox/PSYCO-576-Fall-2020/blob/master/PSYCO_576_ML_for_Psychology_DW_1.ipynb\" target=\"_parent\"><img src=\"https://colab.research.google.com/assets/colab-badge.svg\" alt=\"Open In Colab\"/></a>"
      ]
    },
    {
      "cell_type": "markdown",
      "metadata": {
        "id": "plnc66CT4iw4",
        "colab_type": "text"
      },
      "source": [
        "In this first Data Workshop, we will look at some ways to inspect data and get feel for how the data is structured.\n",
        "\n",
        "\n",
        "Goals and learning objectives:\n",
        "\n",
        "\n",
        "1.   Load EEG data\n",
        "2.   Inspect EEG data\n",
        "\n",
        "\n",
        "\n",
        "\n",
        "We will use the 'mne' python package to work with EEG data. \\\\\n",
        "https://mne.tools/stable/index.html\n",
        "\n",
        "\n",
        "Original Paper:\n",
        "\n",
        "\n",
        "\n",
        "Variables: \n",
        "\n"
      ]
    },
    {
      "cell_type": "code",
      "metadata": {
        "id": "hQ-km1bqWSFC",
        "colab_type": "code",
        "colab": {
          "base_uri": "https://localhost:8080/",
          "height": 134
        },
        "outputId": "839392cd-ee7d-4d0a-aa8e-92132ff981a9"
      },
      "source": [
        "# Install necessary packages\n",
        "!pip install mne"
      ],
      "execution_count": 2,
      "outputs": [
        {
          "output_type": "stream",
          "text": [
            "Collecting mne\n",
            "\u001b[?25l  Downloading https://files.pythonhosted.org/packages/90/c6/7619cef2fe437038267f2a5e2752180dfa594daada8b10a8ab73d187c078/mne-0.20.8-py3-none-any.whl (6.6MB)\n",
            "\u001b[K     |████████████████████████████████| 6.6MB 2.1MB/s \n",
            "\u001b[?25hRequirement already satisfied: numpy>=1.11.3 in /usr/local/lib/python3.6/dist-packages (from mne) (1.18.5)\n",
            "Requirement already satisfied: scipy>=0.17.1 in /usr/local/lib/python3.6/dist-packages (from mne) (1.4.1)\n",
            "Installing collected packages: mne\n",
            "Successfully installed mne-0.20.8\n"
          ],
          "name": "stdout"
        }
      ]
    },
    {
      "cell_type": "code",
      "metadata": {
        "id": "-7rsC8OlYcn6",
        "colab_type": "code",
        "colab": {}
      },
      "source": [
        "import mne"
      ],
      "execution_count": 4,
      "outputs": []
    },
    {
      "cell_type": "code",
      "metadata": {
        "id": "x48M8MFhaHBe",
        "colab_type": "code",
        "colab": {
          "base_uri": "https://localhost:8080/",
          "height": 35
        },
        "outputId": "d1f5ef03-f7c5-4313-e540-93eb1dea1b82"
      },
      "source": [
        "mne.__version__"
      ],
      "execution_count": 5,
      "outputs": [
        {
          "output_type": "execute_result",
          "data": {
            "application/vnd.google.colaboratory.intrinsic+json": {
              "type": "string"
            },
            "text/plain": [
              "'0.20.8'"
            ]
          },
          "metadata": {
            "tags": []
          },
          "execution_count": 5
        }
      ]
    },
    {
      "cell_type": "code",
      "metadata": {
        "id": "6tusYgICaK9x",
        "colab_type": "code",
        "colab": {}
      },
      "source": [
        ""
      ],
      "execution_count": null,
      "outputs": []
    }
  ]
}