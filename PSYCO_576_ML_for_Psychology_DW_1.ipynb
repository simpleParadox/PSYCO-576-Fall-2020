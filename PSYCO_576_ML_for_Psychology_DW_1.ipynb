{
  "nbformat": 4,
  "nbformat_minor": 0,
  "metadata": {
    "colab": {
      "name": "PSYCO 576: ML for Psychology DW-1",
      "provenance": [],
      "authorship_tag": "ABX9TyNhQ6i9UQiYaoYTxRmWZCYR",
      "include_colab_link": true
    },
    "kernelspec": {
      "name": "python3",
      "display_name": "Python 3"
    }
  },
  "cells": [
    {
      "cell_type": "markdown",
      "metadata": {
        "id": "view-in-github",
        "colab_type": "text"
      },
      "source": [
        "<a href=\"https://colab.research.google.com/github/simpleParadox/PSYCO-576-Fall-2020/blob/master/PSYCO_576_ML_for_Psychology_DW_1.ipynb\" target=\"_parent\"><img src=\"https://colab.research.google.com/assets/colab-badge.svg\" alt=\"Open In Colab\"/></a>"
      ]
    },
    {
      "cell_type": "markdown",
      "metadata": {
        "id": "plnc66CT4iw4",
        "colab_type": "text"
      },
      "source": [
        "In this first Data Workshop, we will look at some ways to inspect data and get feel for how the data is structured.\n",
        "\n",
        "\n",
        "Goals and learning objectives:\n",
        "\n",
        "\n",
        "1.   List item\n",
        "2.   List item\n",
        "\n",
        "\n",
        "\n",
        "\n",
        "We will use the following dataset:\n",
        "\n",
        "\n",
        "Original Paper:\n",
        "\n",
        "\n",
        "\n",
        "Variables: \n",
        "\n"
      ]
    },
    {
      "cell_type": "code",
      "metadata": {
        "id": "hQ-km1bqWSFC",
        "colab_type": "code",
        "colab": {}
      },
      "source": [
        ""
      ],
      "execution_count": null,
      "outputs": []
    }
  ]
}