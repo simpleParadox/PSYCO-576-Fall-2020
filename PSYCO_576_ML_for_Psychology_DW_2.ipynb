{
  "nbformat": 4,
  "nbformat_minor": 0,
  "metadata": {
    "colab": {
      "name": "PSYCO-576: ML for Psychology DW-2",
      "provenance": [],
      "collapsed_sections": [],
      "authorship_tag": "ABX9TyMaLuxsYNf+Sh2eTWUNg87P",
      "include_colab_link": true
    },
    "kernelspec": {
      "name": "python3",
      "display_name": "Python 3"
    }
  },
  "cells": [
    {
      "cell_type": "markdown",
      "metadata": {
        "id": "view-in-github",
        "colab_type": "text"
      },
      "source": [
        "<a href=\"https://colab.research.google.com/github/simpleParadox/PSYCO-576-Fall-2020/blob/master/PSYCO_576_ML_for_Psychology_DW_2.ipynb\" target=\"_parent\"><img src=\"https://colab.research.google.com/assets/colab-badge.svg\" alt=\"Open In Colab\"/></a>"
      ]
    },
    {
      "cell_type": "markdown",
      "metadata": {
        "id": "fp3D46OKGaHL"
      },
      "source": [
        "# **Welcome to the Second Data Workshop!**\n",
        "\n",
        "Good job on the first data workshop.\n",
        "\n",
        "To recap, in the first data workshop, we learned about\n",
        "\n",
        "\n",
        "\n",
        "1.   The MNE package\n",
        "2.   Visualizing raw data\n",
        "3.   Preparing data for machine learning\n",
        "\n",
        "We also briefly touched on ICA and how it can help to reduce noise in data.\n",
        "\n",
        "In this notebook, the primary goal is to implement a machine learning model on the dataset\n",
        "\n",
        "For machine learning, we will use a popular machine learning package called [scikit-learn](https://scikit-learn.org/stable/). We can also use python as it is by itself but scikit-learn is easier and reduces time and effort.\n",
        "\n",
        "Note: Always use existing bug-free code - a good practice 😉.\n"
      ]
    },
    {
      "cell_type": "markdown",
      "metadata": {
        "id": "9SefhTWxMAJp"
      },
      "source": [
        "The detailed learning objectives in this notebook cover:\n",
        "\n",
        "\n",
        "1.   Understand what is a classification problem.\n",
        "2.   Fit a Logistic Regression model on the data.\n",
        "3.   Use scikit-learn to implement a dimensionality reduction technique.\n",
        "4.   Permutation test.\n",
        "\n"
      ]
    },
    {
      "cell_type": "markdown",
      "metadata": {
        "id": "nWTRt_ztd3aw"
      },
      "source": [
        "We will use the same '[sample](https://mne.tools/stable/overview/datasets_index.html#sample-dataset)' dataset that we looked at in DW-1.\n",
        "\n",
        "To recap, it contained data from various participants who were shown checkerboard patterns and given auditory tones, also a smiley face 🙂. \n",
        "\n",
        "\n",
        "NOTE: The framework and the pipeline in this notebook will work for any kind of data, EEG / MEG / fMRI."
      ]
    },
    {
      "cell_type": "code",
      "metadata": {
        "id": "2oRhE8j1fVVm",
        "cellView": "form"
      },
      "source": [
        "#@title Run this cell to install packages and load variables.\n",
        "# Install mne.\n",
        "%%capture\n",
        "!pip install mne\n",
        "\n",
        "# Import packages.\n",
        "import numpy as np\n",
        "import os\n",
        "import mne\n",
        "import matplotlib.pyplot as plt\n",
        "\n",
        "from mne.decoding import (SlidingEstimator, GeneralizingEstimator, Scaler,\n",
        "                          cross_val_multiscore, LinearModel, get_coef,\n",
        "                          Vectorizer, CSP)\n",
        "\n",
        "\n",
        "\n",
        "# Load dataset.\n",
        "sample_data_folder = mne.datasets.sample.data_path()\n",
        "sample_data_raw_file = os.path.join(sample_data_folder, 'MEG', 'sample', 'sample_audvis_filt-0-40_raw.fif')\n",
        "raw = mne.io.read_raw_fif(sample_data_raw_file, preload=True)  # Read the raw .fif file.\n",
        "event_id = {'Auditory/Left': 1, 'Auditory/Right': 2}  # just use two\n",
        "# Set up pick list: EEG + MEG - bad channels (modify to your needs)\n",
        "events = mne.find_events(raw, 'STI 014')\n",
        "tmin = -0.200\n",
        "tmax = 0.500\n",
        "# Set up pick list: EEG + MEG - bad channels (modify to your needs)\n",
        "raw.info['bads'] += ['MEG 2443', 'EEG 053']  # bads + 2 more\n",
        "\n",
        "# Read epochs\n",
        "epochs = mne.Epochs(raw, events, event_id, tmin, tmax, proj=True,\n",
        "                    picks=('grad', 'eog'), baseline=(None, 0.), preload=True,\n",
        "                    reject=dict(grad=4000e-13, eog=150e-6), decim=10)\n",
        "epochs.pick_types(meg=True, exclude='bads')  # remove stim and EOG\n",
        "del raw\n",
        "\n",
        "X = epochs.get_data()  # MEG signals: n_epochs, n_meg_channels, n_times\n",
        "y = epochs.events[:, 2]  # target: Audio left or right"
      ],
      "execution_count": null,
      "outputs": []
    },
    {
      "cell_type": "markdown",
      "metadata": {
        "id": "qJDU96xwHR-S"
      },
      "source": [
        "The brain imaging data is contained in the variable **X**, and the target values are contained in the variable **y**."
      ]
    },
    {
      "cell_type": "markdown",
      "metadata": {
        "id": "6P_b85nEd9cS"
      },
      "source": [
        "Let's check the dimensions of the **X** and **y** variables."
      ]
    },
    {
      "cell_type": "code",
      "metadata": {
        "id": "sdVZKkl2cAqo",
        "outputId": "645851eb-dbe2-4341-e35d-c686cd97f8e5",
        "colab": {
          "base_uri": "https://localhost:8080/",
          "height": 34
        }
      },
      "source": [
        "print(X.shape)"
      ],
      "execution_count": null,
      "outputs": [
        {
          "output_type": "stream",
          "text": [
            "(123, 203, 11)\n"
          ],
          "name": "stdout"
        }
      ]
    },
    {
      "cell_type": "code",
      "metadata": {
        "id": "qcP3QWzc0dit",
        "outputId": "39238830-f906-45cb-9e0c-f6c50a31db09",
        "colab": {
          "base_uri": "https://localhost:8080/",
          "height": 34
        }
      },
      "source": [
        "print(y.shape)"
      ],
      "execution_count": null,
      "outputs": [
        {
          "output_type": "stream",
          "text": [
            "(123,)\n"
          ],
          "name": "stdout"
        }
      ]
    },
    {
      "cell_type": "markdown",
      "metadata": {
        "id": "acgB8xmpeIY1"
      },
      "source": [
        "X is a 3-dimensional array🤯. We can think of 3-d matrices as a collection of many matrices. And each matrix can be accessed by using the value of the first dimension.\n",
        "\n",
        "The first dimension is contains the number of epochs - an epoch is a set of  for a channel. This is one sample.\n",
        "\n",
        "The second dimension tells the number of channels.\n",
        "\n",
        "The third dimension tells the number of readings for a channel. In this case, all channels have 11 observersations for that channel at each time point.\n",
        "\n",
        "Our 'sample' dataset gives us a 3 dimensional matrix by default. But machine learning algorithms take 2-d dimensional matrices as input. We can modify our code so that the machine learning algorithm can take in our 3-d data matrix and perform operations.\n",
        "\n",
        "We can also **[reshape](https://numpy.org/doc/stable/reference/generated/numpy.reshape.html)** our input so that the shape is a 2-d matrix. \n",
        "\n",
        "\n",
        "Note: Usually the when we do analysis and use machine learning on any kind of brain data, it is usually a 2-d matrix that is transformed to make the code simple. "
      ]
    },
    {
      "cell_type": "markdown",
      "metadata": {
        "id": "EU8p2rBvvY9K"
      },
      "source": [
        "Let's try to modify the shape of the input data **X** to a 2-d dimensional matrix (vector/tensor)."
      ]
    },
    {
      "cell_type": "code",
      "metadata": {
        "id": "pXq5uzOmvWiP"
      },
      "source": [
        "mod_X = np.reshape(X,(X.shape[0], X.shape[1] * X.shape[2]))  # Using numpy's reshape function."
      ],
      "execution_count": null,
      "outputs": []
    },
    {
      "cell_type": "code",
      "metadata": {
        "id": "b2pGjZUTkpnH",
        "outputId": "defc672f-607a-45d3-af5f-f08089771def",
        "colab": {
          "base_uri": "https://localhost:8080/",
          "height": 34
        }
      },
      "source": [
        "print(mod_X.shape)"
      ],
      "execution_count": null,
      "outputs": [
        {
          "output_type": "stream",
          "text": [
            "(123, 2233)\n"
          ],
          "name": "stdout"
        }
      ]
    },
    {
      "cell_type": "markdown",
      "metadata": {
        "id": "xT_l1OP_kEgn"
      },
      "source": [
        "A quick important note: Raw data in studies can also be stored as text or .csv files. Various packages like [pandas](https://pandas.pydata.org/pandas-docs/stable/index.html) can help you read, restructure, and also clean raw data.\n",
        "\n",
        "The final structure of the data (before feeding it in a machine learning algorithm) will also be a numpy ndarray."
      ]
    },
    {
      "cell_type": "markdown",
      "metadata": {
        "id": "MdDudGv20h6-"
      },
      "source": [
        "We now have a 2-d matrix. \n",
        "\n",
        "This is important because we can perform various operations like dimensionality reduction, feature selection, and other matrix related operations."
      ]
    },
    {
      "cell_type": "markdown",
      "metadata": {
        "id": "13C1dI1EMGP_"
      },
      "source": [
        "# Classification"
      ]
    },
    {
      "cell_type": "markdown",
      "metadata": {
        "id": "KOlwbU6xMXj8"
      },
      "source": [
        "### What is a classification task?\n",
        "\n",
        "\n",
        "A classification task is a problem where we want to find a model that classifies samples into their correct classes. \n",
        "\n",
        "Here, the samples are the MEG data and the target classes are whether the participant heard the tones from the left or right.\n",
        "\n",
        "\n",
        "NOTE: Classification falls under the supervised learning category of machine learning tasks."
      ]
    },
    {
      "cell_type": "markdown",
      "metadata": {
        "id": "JsKAfm9HShwy"
      },
      "source": [
        "Here's an visual understanding. X and Y can be two features. Taken from [here](https://www.javatpoint.com/classification-algorithm-in-machine-learning).\n",
        "\n",
        "\n",
        "![image.png](data:image/png;base64,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)"
      ]
    },
    {
      "cell_type": "markdown",
      "metadata": {
        "id": "8PmT0hs2TrAN"
      },
      "source": [
        "For our classification task, we have to correctly classify the samples into two classes. This is a binary classification problem."
      ]
    },
    {
      "cell_type": "markdown",
      "metadata": {
        "id": "RphvBepVUjFs"
      },
      "source": [
        "One of the simplest binary classification models in machine learning is Logistic Regression. It uses the logistic (sigmoid) function to output a value between 0 and 1."
      ]
    },
    {
      "cell_type": "markdown",
      "metadata": {
        "id": "wBjQ3QEjVkCR"
      },
      "source": [
        "Here's how the function looks like.\n",
        "Taken from [here](https://towardsdatascience.com/logistic-regression-detailed-overview-46c4da4303bc).\n",
        "\n",
        "![image.png](data:image/png;base64,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)"
      ]
    },
    {
      "cell_type": "markdown",
      "metadata": {
        "id": "73SzfrPoWXJv"
      },
      "source": [
        "In essence, it's a regression model that learns the pattern between the input and output and passes the result through an activation function (sigmoid in this case)."
      ]
    },
    {
      "cell_type": "markdown",
      "metadata": {
        "id": "2N3NnLvvcImR"
      },
      "source": [
        "We will use the scikit-learn package to implement the [logistic regression](https://scikit-learn.org/stable/modules/generated/sklearn.linear_model.LogisticRegression.html) model.\n"
      ]
    },
    {
      "cell_type": "code",
      "metadata": {
        "id": "057W1wY5dLl2"
      },
      "source": [
        "# Import the Logistic Regression Class from sklearn.\n",
        "from sklearn.linear_model import LogisticRegression\n",
        "from sklearn.linear_model import LogisticRegressionCV\n",
        "\n",
        "## Load other processing modules.\n",
        "from sklearn.pipeline import make_pipeline\n",
        "from sklearn.preprocessing import StandardScaler"
      ],
      "execution_count": null,
      "outputs": []
    },
    {
      "cell_type": "code",
      "metadata": {
        "id": "gU-klhmxdzer",
        "outputId": "5a332780-c559-4aff-d1a2-b960ee7957b6",
        "colab": {
          "base_uri": "https://localhost:8080/",
          "height": 34
        }
      },
      "source": [
        "clf = make_pipeline(Scaler(epochs.info),\n",
        "                    Vectorizer(),\n",
        "                    LogisticRegression(solver='lbfgs'))\n",
        "\n",
        "scores = cross_val_multiscore(clf, X, y, cv=5, n_jobs=1)\n",
        "\n",
        "# Mean scores across cross-validation splits\n",
        "score = np.mean(scores, axis=0)\n",
        "print('Spatio-temporal: %0.1f%%' % (100 * score,))"
      ],
      "execution_count": null,
      "outputs": [
        {
          "output_type": "stream",
          "text": [
            "Spatio-temporal: 78.9%\n"
          ],
          "name": "stdout"
        }
      ]
    },
    {
      "cell_type": "markdown",
      "metadata": {
        "id": "W5RxhUaHpvni"
      },
      "source": [
        "# Dimensionality Reduction\n",
        "\n",
        "It may be useful to reduce the dimensionality of data and not use all the features. One of the key benefits of reducing the number of features is that it takes less time for the model to train.\n",
        "\n",
        "Another benefit is that it helps us to visualize data in 2-d or 3-d space."
      ]
    },
    {
      "cell_type": "markdown",
      "metadata": {
        "id": "pFCEZGS8p_0z"
      },
      "source": [
        "## PCA\n"
      ]
    },
    {
      "cell_type": "markdown",
      "metadata": {
        "id": "KcPPkD-v4ulE"
      },
      "source": [
        "Here we will look at an important dimensionality reduction technique called PCA or Principal Component Analysis.\n",
        "\n",
        "PCA is a technique which selects the features that contain highest information variance. In other words, it keeps the **first 'k'** 'components that contribute to the most information in the dataset.\n",
        "\n",
        "PCA requires an understanding of eigenvalues and eigenvectors and [this](https://www.youtube.com/watch?v=PFDu9oVAE-g) video provides a intuitive understanding of it. \n",
        "\n",
        "Also, [this](https://towardsdatascience.com/a-one-stop-shop-for-principal-component-analysis-5582fb7e0a9c) article explains PCA in a simple way and [this](https://jakevdp.github.io/PythonDataScienceHandbook/05.09-principal-component-analysis.html) article provides various examples on other uses of PCA in general data science."
      ]
    },
    {
      "cell_type": "markdown",
      "metadata": {
        "id": "WLJvdgo2jGzu"
      },
      "source": [
        "Let's implement [PCA](https://scikit-learn.org/stable/modules/generated/sklearn.decomposition.PCA.html) and find out how many components contribute to most information in the dataset."
      ]
    },
    {
      "cell_type": "code",
      "metadata": {
        "id": "EmPwp70b4Ghg",
        "cellView": "form"
      },
      "source": [
        "#@title Run this cell to plot pca variance.\n",
        "def plot_pca(pca_data):\n",
        "  x_ticks = [i for i in range(len(pca_data))]\n",
        "  cumsum = np.cumsum(pca_data)\n",
        "  plt.xlabel('n_components')\n",
        "  plt.ylabel('Explained variance')\n",
        "  plt.title('Explained Variance of PCA components')\n",
        "  plt.plot(x_ticks, cumsum)\n",
        "  plt.show()"
      ],
      "execution_count": null,
      "outputs": []
    },
    {
      "cell_type": "code",
      "metadata": {
        "id": "a28cdLvyb9vI"
      },
      "source": [
        "# Import the PCA class from scikit-learn.\n",
        "from sklearn.decomposition import PCA"
      ],
      "execution_count": null,
      "outputs": []
    },
    {
      "cell_type": "code",
      "metadata": {
        "id": "fDaEXlRzqlAd",
        "outputId": "5b25e494-0303-45d8-b0fa-a00cb1008e9a",
        "colab": {
          "base_uri": "https://localhost:8080/",
          "height": 296
        }
      },
      "source": [
        "scaler = StandardScaler()\n",
        "mod_X_scaled = scaler.fit_transform(mod_X)  # Scaling data because PCA is susceptible to changes in feature ranges.\n",
        "pca = PCA()  # Create PCA class.\n",
        "pca.fit(mod_X_scaled)  # fit PCA to the 2-d data.\n",
        "# Plot the variance explained by the components.\n",
        "plot_pca(pca.explained_variance_ratio_)"
      ],
      "execution_count": null,
      "outputs": [
        {
          "output_type": "display_data",
          "data": {
            "image/png": "[encoded data removed]",
            "text/plain": [
              "<Figure size 432x288 with 1 Axes>"
            ]
          },
          "metadata": {
            "tags": [],
            "needs_background": "light"
          }
        }
      ]
    },
    {
      "cell_type": "markdown",
      "metadata": {
        "id": "KkW0Ooe756lD"
      },
      "source": [
        "# Exercise 1\n",
        "Now that we have seen how varying the number of components explains the variance in the data, let's try to check the performance of our Logisitic Regression model.\n",
        "\n",
        "Fill out the missing line below."
      ]
    },
    {
      "cell_type": "code",
      "metadata": {
        "id": "YpmabLAp_TK9"
      },
      "source": [
        "clf = make_pipeline(StandardScaler(), LogisticRegression(solver='lbfgs'))\n",
        "\n",
        "scores = ...  # Complete this line. \n",
        "#Hint: Implement the cross_val_multiscore function and use different number of features.\n",
        "\n",
        "\n",
        "# Mean scores across cross-validation splits\n",
        "score = np.mean(scores, axis=0)\n",
        "print('Spatio-temporal: %0.1f%%' % (100 * score))"
      ],
      "execution_count": null,
      "outputs": []
    },
    {
      "cell_type": "markdown",
      "metadata": {
        "id": "4nBzZQ5K9VvO"
      },
      "source": [
        "We see that a (almost) linear increase in explained variance as the number of components increase. Therefore, in this case it is reasonable to use all the features in the data and not apply any dimensionality reduction technique on the data. "
      ]
    },
    {
      "cell_type": "markdown",
      "metadata": {
        "id": "Ya9Sp8sme4x8"
      },
      "source": [
        "# Permutation Test\n",
        "\n",
        "The permutation test is a way to test whether our accuracy is significantly above chance.\n",
        "\n",
        "When we fit a machine learning model on our data, we assume that there is a relationship between the input data and the target variable. If there is a relationship that our model can decode, then we obtain good performance on the test data.\n",
        "\n",
        "But how do we decide that our model's performance is better than just random 🤔?\n",
        "\n",
        "The performance will be at chance if there is no relationship between the input data and target variable(s). In case of a binary classification problem, at random, the performance will be about 50% on an average."
      ]
    },
    {
      "cell_type": "markdown",
      "metadata": {
        "id": "lXpFnJQ4-9f-"
      },
      "source": [
        "The permutation test is one of the ways to determine significance but is usually combined with other techniques such as a t-test.\n",
        "For your projects, it is recommended that statistical tests are carried out to provide strong support for results."
      ]
    },
    {
      "cell_type": "markdown",
      "metadata": {
        "id": "eajNzPPv_1rP"
      },
      "source": [
        "So in order to perform the permutation test, we need to shuffle the target labels.\n",
        "\n",
        "[This](https://www.jmlr.org/papers/volume11/ojala10a/ojala10a.pdf) paper a comprehensive description of the test."
      ]
    },
    {
      "cell_type": "code",
      "metadata": {
        "id": "h4AZGBGHuIjx"
      },
      "source": [
        "# Shuffle the labels so that they are incorrectly assigned. We will use numpy's shuffle function and pass in the 'y' variable.\n",
        "y_copy = np.copy(y)  # Make a copy of the original target value vector.\n",
        "np.random.shuffle(y_copy)  # Shuffle the array in-place."
      ],
      "execution_count": null,
      "outputs": []
    },
    {
      "cell_type": "markdown",
      "metadata": {
        "id": "jZKqtUXdIJ2m"
      },
      "source": [
        "Now let's run the cross-validation framework again and look at the accuracy."
      ]
    },
    {
      "cell_type": "code",
      "metadata": {
        "id": "zvzoA3PJDxMb",
        "outputId": "9380f7e8-2c28-4fb4-b515-c5fc5a732f8d",
        "colab": {
          "base_uri": "https://localhost:8080/",
          "height": 34
        }
      },
      "source": [
        "clf = make_pipeline(Scaler(epochs.info),\n",
        "                    Vectorizer(),\n",
        "                    LogisticRegression(solver='lbfgs'))\n",
        "\n",
        "scores = cross_val_multiscore(clf, X, y_copy, cv=5, n_jobs=1)\n",
        "\n",
        "# Mean scores across cross-validation splits\n",
        "score = np.mean(scores, axis=0)\n",
        "print('Spatio-temporal: %0.1f%%' % (100 * score,))"
      ],
      "execution_count": null,
      "outputs": [
        {
          "output_type": "stream",
          "text": [
            "Spatio-temporal: 59.3%\n"
          ],
          "name": "stdout"
        }
      ]
    },
    {
      "cell_type": "markdown",
      "metadata": {
        "id": "vqqPhyJSIayN"
      },
      "source": [
        "NOTE: For each permutation (each shuffle) you will get different results. This is expected because the the order of the values are different in each case.\n",
        "\n",
        "Generally, we want an expected (average) value, or an average over many runs.\n",
        "Which will be our next exercise 💪."
      ]
    },
    {
      "cell_type": "markdown",
      "metadata": {
        "id": "5__wV3Iy5JIV"
      },
      "source": [
        "# Exercise 2\n",
        "\n",
        "In the second exercise, we want to know the average accuracy for the permutation test across many iterations.\n",
        "\n",
        "Here's what needs to be done. Use the cross_val_multiscore function and run it multiple times. Then calculate the average accuracy across those runs.\n",
        "\n",
        "Hint: You might want to use the [np.mean](https://numpy.org/doc/stable/reference/generated/numpy.mean.html) function, a [for](https://wiki.python.org/moin/ForLoop) loop, and a python [list](https://https://docs.python.org/2/tutorial/datastructures.html).\n",
        "\n",
        "There are different ways to write the code so the exact implementation may differ."
      ]
    },
    {
      "cell_type": "code",
      "metadata": {
        "id": "Xw6UL1-A7l6q"
      },
      "source": [
        "## Write your code here."
      ],
      "execution_count": null,
      "outputs": []
    },
    {
      "cell_type": "markdown",
      "metadata": {
        "id": "8Rhw2NFSv6g2"
      },
      "source": [
        "# Conclusion\n",
        "In this notebook, we learned the following:\n",
        "\n",
        "\n",
        "1.   Understood what a classfication problem is.\n",
        "2.   Used scikit-learn to implement a Logistic Regression model.\n",
        "3.   Applied PCA on the dataset and understood the effect of dimensionality reduction on the data.\n",
        "4.   Understood permutation test as a way of evaluating model performance.\n",
        "\n",
        "\n",
        "Now, you should be able equipped with the basic tools for your project.\n",
        "Good Luck! 🎉"
      ]
    }
  ]
}